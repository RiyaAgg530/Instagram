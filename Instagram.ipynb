{
 "cells": [
  {
   "cell_type": "code",
   "execution_count": 1,
   "id": "32dabe92",
   "metadata": {},
   "outputs": [
    {
     "name": "stderr",
     "output_type": "stream",
     "text": [
      "[WDM] - Downloading: 100%|████████████████████████████████████████████████████████| 6.79M/6.79M [00:01<00:00, 5.46MB/s]\n",
      "C:\\Users\\Dell\\AppData\\Local\\Temp\\ipykernel_1544\\2216454020.py:6: DeprecationWarning: executable_path has been deprecated, please pass in a Service object\n",
      "  driver = webdriver.Chrome(ChromeDriverManager().install())\n"
     ]
    }
   ],
   "source": [
    "from selenium import webdriver\n",
    "from selenium.webdriver.common.by import By\n",
    "from selenium.webdriver.common.keys import Keys\n",
    "import time\n",
    "from webdriver_manager.chrome import ChromeDriverManager\n",
    "driver = webdriver.Chrome(ChromeDriverManager().install())"
   ]
  },
  {
   "cell_type": "markdown",
   "id": "3a762ab2",
   "metadata": {},
   "source": [
    "### Login To Instagram"
   ]
  },
  {
   "cell_type": "code",
   "execution_count": 2,
   "id": "c18b0862",
   "metadata": {},
   "outputs": [],
   "source": [
    "driver.get('https://www.instagram.com/')\n",
    "time.sleep(3)\n",
    "\n",
    "#login into instagram\n",
    "\n",
    "usr_name = driver.find_element(By.NAME,\"username\")\n",
    "usr_name.click()\n",
    "usr_name.send_keys(\"riyaagg9587\")\n",
    "\n",
    "pswrd = driver.find_element(By.NAME,\"password\")\n",
    "pswrd.click()\n",
    "pswrd.send_keys(\"Successmile@100\")\n",
    "pswrd.submit()\n",
    "\n",
    "time.sleep(5)"
   ]
  },
  {
   "cell_type": "markdown",
   "id": "4d3fe5a7",
   "metadata": {},
   "source": [
    "### Dealing With Some Pop-Ups"
   ]
  },
  {
   "cell_type": "code",
   "execution_count": 3,
   "id": "5ed218a6",
   "metadata": {},
   "outputs": [
    {
     "ename": "NoSuchElementException",
     "evalue": "Message: no such element: Unable to locate element: {\"method\":\"xpath\",\"selector\":\"//button[text()='Not Now']\"}\n  (Session info: chrome=111.0.5563.147)\nStacktrace:\nBacktrace:\n\t(No symbol) [0x00B1DCE3]\n\t(No symbol) [0x00AB39D1]\n\t(No symbol) [0x009C4DA8]\n\t(No symbol) [0x009F019F]\n\t(No symbol) [0x009F03AB]\n\t(No symbol) [0x00A1EE62]\n\t(No symbol) [0x00A0AF14]\n\t(No symbol) [0x00A1D57C]\n\t(No symbol) [0x00A0ACC6]\n\t(No symbol) [0x009E6F68]\n\t(No symbol) [0x009E80CD]\n\tGetHandleVerifier [0x00D93832+2506274]\n\tGetHandleVerifier [0x00DC9794+2727300]\n\tGetHandleVerifier [0x00DCE36C+2746716]\n\tGetHandleVerifier [0x00BC6690+617600]\n\t(No symbol) [0x00ABC712]\n\t(No symbol) [0x00AC1FF8]\n\t(No symbol) [0x00AC20DB]\n\t(No symbol) [0x00ACC63B]\n\tBaseThreadInitThunk [0x763C00F9+25]\n\tRtlGetAppContainerNamedObjectPath [0x77B77BBE+286]\n\tRtlGetAppContainerNamedObjectPath [0x77B77B8E+238]\n",
     "output_type": "error",
     "traceback": [
      "\u001b[1;31m---------------------------------------------------------------------------\u001b[0m",
      "\u001b[1;31mNoSuchElementException\u001b[0m                    Traceback (most recent call last)",
      "Cell \u001b[1;32mIn[3], line 3\u001b[0m\n\u001b[0;32m      1\u001b[0m \u001b[38;5;66;03m#saving information\u001b[39;00m\n\u001b[1;32m----> 3\u001b[0m save_info \u001b[38;5;241m=\u001b[39m \u001b[43mdriver\u001b[49m\u001b[38;5;241;43m.\u001b[39;49m\u001b[43mfind_element\u001b[49m\u001b[43m(\u001b[49m\u001b[43mBy\u001b[49m\u001b[38;5;241;43m.\u001b[39;49m\u001b[43mXPATH\u001b[49m\u001b[43m,\u001b[49m\u001b[38;5;124;43m\"\u001b[39;49m\u001b[38;5;124;43m//button[text()=\u001b[39;49m\u001b[38;5;124;43m'\u001b[39;49m\u001b[38;5;124;43mNot Now\u001b[39;49m\u001b[38;5;124;43m'\u001b[39;49m\u001b[38;5;124;43m]\u001b[39;49m\u001b[38;5;124;43m\"\u001b[39;49m\u001b[43m)\u001b[49m\n\u001b[0;32m      4\u001b[0m save_info\u001b[38;5;241m.\u001b[39mclick()\n\u001b[0;32m      5\u001b[0m time\u001b[38;5;241m.\u001b[39msleep(\u001b[38;5;241m3\u001b[39m)\n",
      "File \u001b[1;32m~\\AppData\\Local\\Programs\\Python\\Python311\\Lib\\site-packages\\selenium\\webdriver\\remote\\webdriver.py:830\u001b[0m, in \u001b[0;36mWebDriver.find_element\u001b[1;34m(self, by, value)\u001b[0m\n\u001b[0;32m    827\u001b[0m     by \u001b[38;5;241m=\u001b[39m By\u001b[38;5;241m.\u001b[39mCSS_SELECTOR\n\u001b[0;32m    828\u001b[0m     value \u001b[38;5;241m=\u001b[39m \u001b[38;5;124mf\u001b[39m\u001b[38;5;124m'\u001b[39m\u001b[38;5;124m[name=\u001b[39m\u001b[38;5;124m\"\u001b[39m\u001b[38;5;132;01m{\u001b[39;00mvalue\u001b[38;5;132;01m}\u001b[39;00m\u001b[38;5;124m\"\u001b[39m\u001b[38;5;124m]\u001b[39m\u001b[38;5;124m'\u001b[39m\n\u001b[1;32m--> 830\u001b[0m \u001b[38;5;28;01mreturn\u001b[39;00m \u001b[38;5;28;43mself\u001b[39;49m\u001b[38;5;241;43m.\u001b[39;49m\u001b[43mexecute\u001b[49m\u001b[43m(\u001b[49m\u001b[43mCommand\u001b[49m\u001b[38;5;241;43m.\u001b[39;49m\u001b[43mFIND_ELEMENT\u001b[49m\u001b[43m,\u001b[49m\u001b[43m \u001b[49m\u001b[43m{\u001b[49m\u001b[38;5;124;43m\"\u001b[39;49m\u001b[38;5;124;43musing\u001b[39;49m\u001b[38;5;124;43m\"\u001b[39;49m\u001b[43m:\u001b[49m\u001b[43m \u001b[49m\u001b[43mby\u001b[49m\u001b[43m,\u001b[49m\u001b[43m \u001b[49m\u001b[38;5;124;43m\"\u001b[39;49m\u001b[38;5;124;43mvalue\u001b[39;49m\u001b[38;5;124;43m\"\u001b[39;49m\u001b[43m:\u001b[49m\u001b[43m \u001b[49m\u001b[43mvalue\u001b[49m\u001b[43m}\u001b[49m\u001b[43m)\u001b[49m[\u001b[38;5;124m\"\u001b[39m\u001b[38;5;124mvalue\u001b[39m\u001b[38;5;124m\"\u001b[39m]\n",
      "File \u001b[1;32m~\\AppData\\Local\\Programs\\Python\\Python311\\Lib\\site-packages\\selenium\\webdriver\\remote\\webdriver.py:440\u001b[0m, in \u001b[0;36mWebDriver.execute\u001b[1;34m(self, driver_command, params)\u001b[0m\n\u001b[0;32m    438\u001b[0m response \u001b[38;5;241m=\u001b[39m \u001b[38;5;28mself\u001b[39m\u001b[38;5;241m.\u001b[39mcommand_executor\u001b[38;5;241m.\u001b[39mexecute(driver_command, params)\n\u001b[0;32m    439\u001b[0m \u001b[38;5;28;01mif\u001b[39;00m response:\n\u001b[1;32m--> 440\u001b[0m     \u001b[38;5;28;43mself\u001b[39;49m\u001b[38;5;241;43m.\u001b[39;49m\u001b[43merror_handler\u001b[49m\u001b[38;5;241;43m.\u001b[39;49m\u001b[43mcheck_response\u001b[49m\u001b[43m(\u001b[49m\u001b[43mresponse\u001b[49m\u001b[43m)\u001b[49m\n\u001b[0;32m    441\u001b[0m     response[\u001b[38;5;124m\"\u001b[39m\u001b[38;5;124mvalue\u001b[39m\u001b[38;5;124m\"\u001b[39m] \u001b[38;5;241m=\u001b[39m \u001b[38;5;28mself\u001b[39m\u001b[38;5;241m.\u001b[39m_unwrap_value(response\u001b[38;5;241m.\u001b[39mget(\u001b[38;5;124m\"\u001b[39m\u001b[38;5;124mvalue\u001b[39m\u001b[38;5;124m\"\u001b[39m, \u001b[38;5;28;01mNone\u001b[39;00m))\n\u001b[0;32m    442\u001b[0m     \u001b[38;5;28;01mreturn\u001b[39;00m response\n",
      "File \u001b[1;32m~\\AppData\\Local\\Programs\\Python\\Python311\\Lib\\site-packages\\selenium\\webdriver\\remote\\errorhandler.py:245\u001b[0m, in \u001b[0;36mErrorHandler.check_response\u001b[1;34m(self, response)\u001b[0m\n\u001b[0;32m    243\u001b[0m         alert_text \u001b[38;5;241m=\u001b[39m value[\u001b[38;5;124m\"\u001b[39m\u001b[38;5;124malert\u001b[39m\u001b[38;5;124m\"\u001b[39m]\u001b[38;5;241m.\u001b[39mget(\u001b[38;5;124m\"\u001b[39m\u001b[38;5;124mtext\u001b[39m\u001b[38;5;124m\"\u001b[39m)\n\u001b[0;32m    244\u001b[0m     \u001b[38;5;28;01mraise\u001b[39;00m exception_class(message, screen, stacktrace, alert_text)  \u001b[38;5;66;03m# type: ignore[call-arg]  # mypy is not smart enough here\u001b[39;00m\n\u001b[1;32m--> 245\u001b[0m \u001b[38;5;28;01mraise\u001b[39;00m exception_class(message, screen, stacktrace)\n",
      "\u001b[1;31mNoSuchElementException\u001b[0m: Message: no such element: Unable to locate element: {\"method\":\"xpath\",\"selector\":\"//button[text()='Not Now']\"}\n  (Session info: chrome=111.0.5563.147)\nStacktrace:\nBacktrace:\n\t(No symbol) [0x00B1DCE3]\n\t(No symbol) [0x00AB39D1]\n\t(No symbol) [0x009C4DA8]\n\t(No symbol) [0x009F019F]\n\t(No symbol) [0x009F03AB]\n\t(No symbol) [0x00A1EE62]\n\t(No symbol) [0x00A0AF14]\n\t(No symbol) [0x00A1D57C]\n\t(No symbol) [0x00A0ACC6]\n\t(No symbol) [0x009E6F68]\n\t(No symbol) [0x009E80CD]\n\tGetHandleVerifier [0x00D93832+2506274]\n\tGetHandleVerifier [0x00DC9794+2727300]\n\tGetHandleVerifier [0x00DCE36C+2746716]\n\tGetHandleVerifier [0x00BC6690+617600]\n\t(No symbol) [0x00ABC712]\n\t(No symbol) [0x00AC1FF8]\n\t(No symbol) [0x00AC20DB]\n\t(No symbol) [0x00ACC63B]\n\tBaseThreadInitThunk [0x763C00F9+25]\n\tRtlGetAppContainerNamedObjectPath [0x77B77BBE+286]\n\tRtlGetAppContainerNamedObjectPath [0x77B77B8E+238]\n"
     ]
    }
   ],
   "source": [
    "#saving information\n",
    "\n",
    "save_info = driver.find_element(By.XPATH,\"//button[text()='Not Now']\")\n",
    "save_info.click()\n",
    "time.sleep(3)"
   ]
  },
  {
   "cell_type": "code",
   "execution_count": null,
   "id": "2ce9fda9",
   "metadata": {},
   "outputs": [],
   "source": [
    "#notifications pop-ups\n",
    "\n",
    "notify = driver.find_element(By.XPATH,\"//button[text()='Not Now']\")\n",
    "notify.click()\n",
    "time.sleep(3)"
   ]
  },
  {
   "cell_type": "markdown",
   "id": "38581b7d",
   "metadata": {},
   "source": [
    "### Now Search For The 1st Profile"
   ]
  },
  {
   "cell_type": "code",
   "execution_count": null,
   "id": "a3220f05",
   "metadata": {},
   "outputs": [],
   "source": [
    "# Now searching for food handle\n",
    "\n",
    "search_1 = driver.find_element(By.XPATH,\"//span[text()='Search']\")\n",
    "search_1.click()\n",
    "\n",
    "search_2 = driver.find_element(By.XPATH,\"//input[@placeholder='Search']\")\n",
    "search_2.send_keys(\"food\")\n",
    "time.sleep(4)"
   ]
  },
  {
   "cell_type": "code",
   "execution_count": null,
   "id": "0c7e3986",
   "metadata": {},
   "outputs": [],
   "source": [
    "# Now searching for sodelhi handle and its profile\n",
    "\n",
    "clear_box = driver.find_element(By.XPATH,\"//*[@aria-label='Clear the search box']\")\n",
    "clear_box.click()\n",
    "time.sleep(2)\n",
    "\n",
    "search_1 = driver.find_element(By.XPATH,\"//span[text()='Search']\")\n",
    "search_1.click()\n",
    "\n",
    "search_2 = driver.find_element(By.XPATH,\"//input[@placeholder='Search']\")\n",
    "search_2.send_keys(\"So Delhi\")\n",
    "time.sleep(2)"
   ]
  },
  {
   "cell_type": "code",
   "execution_count": null,
   "id": "72a66b69",
   "metadata": {},
   "outputs": [],
   "source": [
    "# double clicking to open the profile\n",
    "\n",
    "count = 0\n",
    "while count<2:\n",
    "    search_2.send_keys(Keys.ENTER)\n",
    "    count = count+1 \n",
    "time.sleep(4)"
   ]
  },
  {
   "cell_type": "markdown",
   "id": "0fc52b13",
   "metadata": {},
   "source": [
    "### Follow And Unfollow"
   ]
  },
  {
   "cell_type": "code",
   "execution_count": null,
   "id": "b51dd0ee",
   "metadata": {},
   "outputs": [],
   "source": [
    "# follow the sodelhi\n",
    "\n",
    "follow = driver.find_element(By.XPATH,\"//div[text()='Follow']\")\n",
    "follow.click()\n",
    "time.sleep(2)\n",
    "\n",
    "drp_dwn = driver.find_element(By.XPATH,\"//*[@aria-label='Down chevron icon']\")\n",
    "drp_dwn.click()\n",
    "time.sleep(3)"
   ]
  },
  {
   "cell_type": "code",
   "execution_count": null,
   "id": "7e72aba7",
   "metadata": {},
   "outputs": [],
   "source": [
    "# unfollow the sodelhi\n",
    "\n",
    "unfollow = driver.find_element(By.XPATH,\"//div[text()='Unfollow']\")\n",
    "unfollow.click()\n",
    "time.sleep(3)\n",
    "\n",
    "back = driver.find_element(By.XPATH,\"//*[@aria-label='Back']\")\n",
    "back.click()\n",
    "time.sleep(2)"
   ]
  },
  {
   "cell_type": "markdown",
   "id": "b815a445",
   "metadata": {},
   "source": [
    "### 2nd search"
   ]
  },
  {
   "cell_type": "code",
   "execution_count": null,
   "id": "a762f3d9",
   "metadata": {},
   "outputs": [],
   "source": [
    "# now search for dilsefoodie\n",
    "\n",
    "search_1 = driver.find_element(By.XPATH,\"//span[text()='Search']\")\n",
    "search_1.click()\n",
    "\n",
    "search_2 = driver.find_element(By.XPATH,\"//input[@placeholder='Search']\")\n",
    "search_2.send_keys(\"dilsefoodie\")\n",
    "time.sleep(2)"
   ]
  },
  {
   "cell_type": "code",
   "execution_count": null,
   "id": "a01bb32c",
   "metadata": {},
   "outputs": [],
   "source": [
    "# double clicking to open the profile\n",
    "\n",
    "count = 0\n",
    "while count<2:\n",
    "    search_2.send_keys(Keys.ENTER)\n",
    "    count = count+1 \n",
    "time.sleep(3)"
   ]
  },
  {
   "cell_type": "markdown",
   "id": "6ee19b12",
   "metadata": {},
   "source": [
    "### Open the Posts And Like Unlike it"
   ]
  },
  {
   "cell_type": "code",
   "execution_count": null,
   "id": "5010cf1b",
   "metadata": {},
   "outputs": [],
   "source": [
    "# see the posts of dilsefoodie\n",
    "\n",
    "posts = driver.find_element(By.XPATH,\"//div[@class='_aagw']\")\n",
    "posts.click()\n",
    "time.sleep(3)"
   ]
  },
  {
   "cell_type": "code",
   "execution_count": null,
   "id": "457fc9fc",
   "metadata": {},
   "outputs": [],
   "source": [
    "# now like unlike the 30 posts of dilsefoodie\n",
    "# do click on next button\n",
    "\n",
    "for i in range(30):\n",
    "    likes = driver.find_element(By.XPATH,'//button[@class=\"_abl-\"]//*[@aria-label=\"Like\"]')\n",
    "    likes.click()\n",
    "    time.sleep(3)\n",
    "    \n",
    "    unlike = driver.find_element(By.XPATH,'//button[@class=\"_abl-\"]//*[@aria-label=\"Unlike\"]')\n",
    "    unlike.click()\n",
    "    time.sleep(3)\n",
    "    \n",
    "    next_button = driver.find_element(By.XPATH,'//*[@aria-label=\"Next\"]')\n",
    "    next_button.click()\n",
    "    time.sleep(3)\n",
    "    "
   ]
  },
  {
   "cell_type": "code",
   "execution_count": null,
   "id": "234bcb89",
   "metadata": {},
   "outputs": [],
   "source": [
    "# close the dilsefoodie profile\n",
    "\n",
    "close = driver.find_element(By.XPATH,'//*[@aria-label=\"Close\"]')\n",
    "close.click()\n",
    "time.sleep(3)"
   ]
  },
  {
   "cell_type": "markdown",
   "id": "fc363beb",
   "metadata": {},
   "source": [
    "### 3rd search"
   ]
  },
  {
   "cell_type": "code",
   "execution_count": null,
   "id": "0f3b45f3",
   "metadata": {},
   "outputs": [],
   "source": [
    "# now search for sodelhi again\n",
    "\n",
    "search_3 = driver.find_element(By.XPATH,'//*[@aria-label=\"Home\"]')\n",
    "search_3.click()\n",
    "time.sleep(3)\n",
    "\n",
    "search_1 = driver.find_element(By.XPATH,\"//span[text()='Search']\")\n",
    "search_1.click()\n",
    "\n",
    "search_4 = driver.find_element(By.XPATH,\"//input[@placeholder='Search']\")\n",
    "search_4.click()\n",
    "search_4.send_keys('sodelhi')\n",
    "time.sleep(3)"
   ]
  },
  {
   "cell_type": "code",
   "execution_count": null,
   "id": "0fae2488",
   "metadata": {},
   "outputs": [],
   "source": [
    "# double clicking to open the profile\n",
    "\n",
    "count = 0\n",
    "while count<2:\n",
    "    search_4.send_keys(Keys.ENTER)\n",
    "    count = count+1 \n",
    "time.sleep(5)"
   ]
  },
  {
   "cell_type": "markdown",
   "id": "c76ac8c2",
   "metadata": {},
   "source": [
    "### See the Followers"
   ]
  },
  {
   "cell_type": "code",
   "execution_count": null,
   "id": "6fcdf4ce",
   "metadata": {},
   "outputs": [],
   "source": [
    "#now see the followers of sodelhi\n",
    "\n",
    "followers = driver.find_element(By.XPATH,\"//span[@title='569,502']\")\n",
    "followers.click()"
   ]
  },
  {
   "cell_type": "code",
   "execution_count": null,
   "id": "b13696be",
   "metadata": {},
   "outputs": [],
   "source": [
    "time.sleep(3)\n",
    "#now close the followers\n",
    "\n",
    "followers_list = driver.find_element(By.XPATH,\"//*[@aria-label='Close']\")\n",
    "followers_list.click()\n",
    "time.sleep(2)\n",
    "\n",
    "search_5 = driver.find_element(By.XPATH,'//*[@aria-label=\"Home\"]')\n",
    "search_5.click()\n",
    "time.sleep(3)"
   ]
  },
  {
   "cell_type": "markdown",
   "id": "7f101dfb",
   "metadata": {},
   "source": [
    "### 4th search"
   ]
  },
  {
   "cell_type": "code",
   "execution_count": null,
   "id": "f2269b0a",
   "metadata": {},
   "outputs": [],
   "source": [
    "#now search for the coding ninjas\n",
    "\n",
    "search_1 = driver.find_element(By.XPATH,\"//span[text()='Search']\")\n",
    "search_1.click()\n",
    "\n",
    "search_4 = driver.find_element(By.XPATH,\"//input[@placeholder='Search']\")\n",
    "search_4.click()\n",
    "search_4.send_keys(\"coding.ninjas\")\n",
    "time.sleep(2)"
   ]
  },
  {
   "cell_type": "markdown",
   "id": "c8d6d516",
   "metadata": {},
   "source": [
    "### Opening CodingNinjas and see its Story"
   ]
  },
  {
   "cell_type": "code",
   "execution_count": null,
   "id": "c88c0dc8",
   "metadata": {},
   "outputs": [],
   "source": [
    "# double clicking to open the profile\n",
    "\n",
    "count = 0\n",
    "while count<2:\n",
    "    search_4.send_keys(Keys.ENTER)\n",
    "    count = count+1 \n",
    "time.sleep(4)"
   ]
  },
  {
   "cell_type": "code",
   "execution_count": null,
   "id": "8cb1993f",
   "metadata": {},
   "outputs": [],
   "source": [
    "# see the story of coding ninjas\n",
    "\n",
    "story = driver.find_element(By.XPATH,\"//div[@aria-disabled='false']\")\n",
    "story.click()"
   ]
  },
  {
   "cell_type": "markdown",
   "id": "9bbfbebb",
   "metadata": {},
   "source": [
    "# This is the whole project!! "
   ]
  }
 ],
 "metadata": {
  "kernelspec": {
   "display_name": "Python 3 (ipykernel)",
   "language": "python",
   "name": "python3"
  },
  "language_info": {
   "codemirror_mode": {
    "name": "ipython",
    "version": 3
   },
   "file_extension": ".py",
   "mimetype": "text/x-python",
   "name": "python",
   "nbconvert_exporter": "python",
   "pygments_lexer": "ipython3",
   "version": "3.11.1"
  }
 },
 "nbformat": 4,
 "nbformat_minor": 5
}
